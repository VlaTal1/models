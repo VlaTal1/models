{
 "cells": [
  {
   "cell_type": "markdown",
   "metadata": {},
   "source": [
    "# <center> WizardCoder-15B-V1.0"
   ]
  },
  {
   "cell_type": "markdown",
   "metadata": {},
   "source": [
    "#### Resources checkout"
   ]
  },
  {
   "cell_type": "code",
   "execution_count": null,
   "metadata": {
    "vscode": {
     "languageId": "plaintext"
    }
   },
   "outputs": [],
   "source": [
    "!nvidia-smi"
   ]
  },
  {
   "cell_type": "markdown",
   "metadata": {},
   "source": [
    "#### Donwnloads (run once)"
   ]
  },
  {
   "cell_type": "code",
   "execution_count": null,
   "metadata": {},
   "outputs": [],
   "source": [
    "!pip3 install  -Uq transformers\n",
    "!pip3 install  -Uq torch torchvision torchaudio --index-url https://download.pytorch.org/whl/cu118\n",
    "!pip3 install  -Uq sentencepiece\n",
    "!pip3 install  -Uq accelerate\n",
    "!pip3 install  -Uq bitsandbytes"
   ]
  },
  {
   "cell_type": "markdown",
   "metadata": {},
   "source": [
    "#### Imports"
   ]
  },
  {
   "cell_type": "code",
   "execution_count": null,
   "metadata": {},
   "outputs": [],
   "source": [
    "from transformers import AutoModelForCausalLM, AutoTokenizer, GenerationConfig\n",
    "import torch"
   ]
  },
  {
   "cell_type": "markdown",
   "metadata": {},
   "source": [
    "#### Loading model to VRAM"
   ]
  },
  {
   "cell_type": "code",
   "execution_count": null,
   "metadata": {},
   "outputs": [],
   "source": [
    "BASE_MODEL_ID = 'WizardLM/WizardCoder-15B-V1.0'\n",
    "\n",
    "tokenizer = AutoTokenizer.from_pretrained(BASE_MODEL_ID, use_fast=True)\n",
    "model = AutoModelForCausalLM.from_pretrained(BASE_MODEL_ID,\n",
    "                                            device_map=\"auto\", # {\"\":0} - load all wieghts to vram\n",
    "                                            trust_remote_code=True,\n",
    "                                            load_in_8bit=True)"
   ]
  },
  {
   "cell_type": "markdown",
   "metadata": {},
   "source": [
    "#### Prompt"
   ]
  },
  {
   "cell_type": "code",
   "execution_count": null,
   "metadata": {},
   "outputs": [],
   "source": [
    "# Here is your prompt\n",
    "prompt = '''create Java classes according to this PlantUML diagram:\n",
    "\n",
    "@startuml\n",
    "\n",
    "entity Book {\n",
    "id: long\n",
    "name: string\n",
    "language: string\n",
    "yearOfPublishing: int\n",
    "}\n",
    "\n",
    "entity Author {\n",
    "id: long\n",
    "firstName: string\n",
    "lastName: string\n",
    "nationality: string\n",
    "}\n",
    "\n",
    "enum Genre {\n",
    "SCIENCE_FICTION\n",
    "FANTASY\n",
    "HORROR\n",
    "TECHNICAL_WRITING\n",
    "EROTIC_FICTION\n",
    "WESTERN\n",
    "OTHER\n",
    "}\n",
    "\n",
    "Book \"1..N\" -o \"1\" Author: books\n",
    "Book \"1\" o- \"1..N\" Genre: genres\n",
    "Author \"1\" o- \"1..N\" Genre: genres\n",
    "Book \"1..N\" o- \"1\" Author: author\n",
    "\n",
    "@enduml'''\n",
    "\n",
    "# Here is template that model can understand your prompt and make response \n",
    "prompt_template = f'''Below is an instruction that describes a task. Write a response that appropriately completes the request\n",
    "\n",
    "### Instruction: {prompt}\n",
    "\n",
    "### Response:'''"
   ]
  },
  {
   "cell_type": "markdown",
   "metadata": {},
   "source": [
    "#### Inference"
   ]
  },
  {
   "cell_type": "code",
   "execution_count": null,
   "metadata": {},
   "outputs": [],
   "source": [
    "# %timeit -r 5\n",
    "\n",
    "generation_config = GenerationConfig(\n",
    "    top_p=0.0,\n",
    "    top_k=1,\n",
    "    temperature=0.0,\n",
    "    max_new_tokens=600,\n",
    "    repetition_penalty=1.15,\n",
    "    pad_token_id = tokenizer.eos_token_id,\n",
    "    eos_token_id = tokenizer.eos_token_id\n",
    ")   \n",
    "\n",
    "device = torch.device(\"cuda\" if torch.cuda.is_available() else \"cpu\")\n",
    "encoding = tokenizer(prompt_template, return_tensors=\"pt\").to(device)\n",
    "\n",
    "# with torch.cuda.amp.autocast(): ?????\n",
    "# with torch.no_grad(): ????\n",
    "# with torch.inference_mode(): # ????\n",
    "outputs = model.generate(\n",
    "    input_ids=encoding.input_ids,\n",
    "    attention_mask=encoding.attention_mask,\n",
    "    generation_config=generation_config,\n",
    "    do_sampe = False,\n",
    "    use_cache = True\n",
    ")\n",
    "\n",
    "print(tokenizer.decode(outputs[0], skip_special_tokens=True))"
   ]
  }
 ],
 "metadata": {
  "language_info": {
   "name": "python"
  },
  "orig_nbformat": 4
 },
 "nbformat": 4,
 "nbformat_minor": 2
}
