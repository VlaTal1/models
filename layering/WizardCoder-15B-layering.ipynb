{
 "cells": [
  {
   "cell_type": "markdown",
   "metadata": {},
   "source": [
    "# <center> WizardCoder-15B-V1.0\n",
    "## <center> Layering"
   ]
  },
  {
   "cell_type": "markdown",
   "metadata": {},
   "source": [
    "#### Resources checkout"
   ]
  },
  {
   "cell_type": "code",
   "execution_count": null,
   "metadata": {},
   "outputs": [],
   "source": [
    "!nvidia-smi"
   ]
  },
  {
   "cell_type": "markdown",
   "metadata": {},
   "source": [
    "#### Donwnloads (run once)"
   ]
  },
  {
   "cell_type": "code",
   "execution_count": null,
   "metadata": {},
   "outputs": [],
   "source": [
    "!pip3 install  -Uq transformers\n",
    "!pip3 install  -Uq torch torchvision torchaudio --index-url https://download.pytorch.org/whl/cu118\n",
    "!pip3 install  -Uq sentencepiece\n",
    "!pip3 install  -Uq accelerate\n",
    "!pip3 install  -Uq bitsandbytes"
   ]
  },
  {
   "cell_type": "markdown",
   "metadata": {},
   "source": [
    "#### Imports"
   ]
  },
  {
   "cell_type": "code",
   "execution_count": null,
   "metadata": {},
   "outputs": [],
   "source": [
    "from transformers import AutoModelForCausalLM, AutoTokenizer, GenerationConfig, AutoConfig\n",
    "from accelerate import infer_auto_device_map, init_empty_weights\n",
    "from pprint import pp\n",
    "import torch"
   ]
  },
  {
   "cell_type": "markdown",
   "metadata": {},
   "source": [
    "#### Loading empty wieghts and getting layers"
   ]
  },
  {
   "cell_type": "code",
   "execution_count": null,
   "metadata": {},
   "outputs": [
    {
     "ename": "",
     "evalue": "",
     "output_type": "error",
     "traceback": [
      "\u001b[1;31mThe Kernel crashed while executing code in the the current cell or a previous cell. Please review the code in the cell(s) to identify a possible cause of the failure. Click <a href='https://aka.ms/vscodeJupyterKernelCrash'>here</a> for more info. View Jupyter <a href='command:jupyter.viewOutput'>log</a> for further details."
     ]
    }
   ],
   "source": [
    "BASE_MODEL_ID = \"WizardLM/WizardCoder-15B-V1.0\"\n",
    "\n",
    "config = AutoConfig.from_pretrained(BASE_MODEL_ID)\n",
    "\n",
    "with init_empty_weights():\n",
    "  model = AutoModelForCausalLM.from_config(config)\n",
    "\n",
    "device_map = infer_auto_device_map(model)\n",
    "pp(device_map, sort_dicts=False)"
   ]
  },
  {
   "cell_type": "markdown",
   "metadata": {},
   "source": [
    "#### Change device_map to load all model to GPU VRAM"
   ]
  },
  {
   "cell_type": "code",
   "execution_count": null,
   "metadata": {},
   "outputs": [],
   "source": [
    "device_map = {\n",
    " 'transformer.wte': 0,\n",
    " 'transformer.wpe': 0,\n",
    " 'transformer.drop': 0,\n",
    " 'transformer.h.0': 0,\n",
    " 'transformer.h.1': 0,\n",
    " 'transformer.h.2': 0,\n",
    " 'transformer.h.3': 0,\n",
    " 'transformer.h.4': 0,\n",
    " 'transformer.h.5': 0,\n",
    " 'transformer.h.6': 0,\n",
    " 'transformer.h.7': 0,\n",
    " 'transformer.h.8': 0,\n",
    " 'transformer.h.9': 0,\n",
    " 'transformer.h.10': 0,\n",
    " 'transformer.h.11': 0,\n",
    " 'transformer.h.12': 0,\n",
    " 'transformer.h.13': 0,\n",
    " 'transformer.h.14': 0,\n",
    " 'transformer.h.15': 0,\n",
    " 'transformer.h.16': 0,\n",
    " 'transformer.h.17': 0,\n",
    " 'transformer.h.18': 0,\n",
    " 'transformer.h.19': 0,\n",
    " 'transformer.h.20': 0,\n",
    " 'transformer.h.21': 0,\n",
    " 'transformer.h.22': 0,\n",
    " 'transformer.h.23': 0,\n",
    " 'transformer.h.24': 0,\n",
    " 'transformer.h.25': 0,\n",
    " 'transformer.h.26': 0,\n",
    " 'transformer.h.27': 0,\n",
    " 'transformer.h.28': 0,\n",
    " 'transformer.h.29': 0,\n",
    " 'transformer.h.30': 0,\n",
    " 'transformer.h.31': 0,\n",
    " 'transformer.h.32': 0,\n",
    " 'transformer.h.33': 0,\n",
    " 'transformer.h.34': 0,\n",
    " 'transformer.h.35': 0,\n",
    " 'transformer.h.36': 0,\n",
    " 'transformer.h.37': 0,\n",
    " 'transformer.h.38': 0,\n",
    " 'transformer.h.39': 0,\n",
    " 'transformer.ln_f': 0,\n",
    " 'lm_head': 0\n",
    "}"
   ]
  },
  {
   "cell_type": "code",
   "execution_count": null,
   "metadata": {},
   "outputs": [],
   "source": [
    "BASE_MODEL_ID = 'WizardLM/WizardCoder-15B-V1.0'\n",
    "\n",
    "tokenizer = AutoTokenizer.from_pretrained(BASE_MODEL_ID, use_fast=True)\n",
    "model = AutoModelForCausalLM.from_pretrained(BASE_MODEL_ID,\n",
    "                                            device_map=device_map,\n",
    "                                            trust_remote_code=True,\n",
    "                                            load_in_8bit=True,)"
   ]
  },
  {
   "cell_type": "code",
   "execution_count": null,
   "metadata": {},
   "outputs": [],
   "source": [
    "for name, param in model.named_parameters():\n",
    "    print(f\"{name}\")"
   ]
  },
  {
   "cell_type": "markdown",
   "metadata": {},
   "source": [
    "#### Change device_map to load all model to GPU VRAM with some layers on RAM"
   ]
  },
  {
   "cell_type": "code",
   "execution_count": null,
   "metadata": {},
   "outputs": [],
   "source": [
    "device_map = {\n",
    " 'transformer.wte': 0,\n",
    " 'transformer.wpe': 0,\n",
    " 'transformer.drop': 0,\n",
    " 'transformer.h.0': 0,\n",
    " 'transformer.h.1': 0,\n",
    " 'transformer.h.2': 0,\n",
    " 'transformer.h.3': 0,\n",
    " 'transformer.h.4': 0,\n",
    " 'transformer.h.5': 0,\n",
    " 'transformer.h.6': 0,\n",
    " 'transformer.h.7': 0,\n",
    " 'transformer.h.8': 0,\n",
    " 'transformer.h.9': 0,\n",
    " 'transformer.h.10': 0,\n",
    " 'transformer.h.11': 0,\n",
    " 'transformer.h.12': 0,\n",
    " 'transformer.h.13': 0,\n",
    " 'transformer.h.14': 0,\n",
    " 'transformer.h.15': 0,\n",
    " 'transformer.h.16': 0,\n",
    " 'transformer.h.17': 0,\n",
    " 'transformer.h.18': 0,\n",
    " 'transformer.h.19': 0,\n",
    " 'transformer.h.20': 0,\n",
    " 'transformer.h.21': 0,\n",
    " 'transformer.h.22': 0,\n",
    " 'transformer.h.23': 0,\n",
    " 'transformer.h.24': 0,\n",
    " 'transformer.h.25': 0,\n",
    " 'transformer.h.26': 0,\n",
    " 'transformer.h.27': 0,\n",
    " 'transformer.h.28': 0,\n",
    " 'transformer.h.29': 0,\n",
    " 'transformer.h.30': 0,\n",
    " 'transformer.h.31': 0,\n",
    " 'transformer.h.32': 0,\n",
    " 'transformer.h.33': 0,\n",
    " 'transformer.h.34': 0,\n",
    " 'transformer.h.35': 0,\n",
    " 'transformer.h.36': 'cpu',\n",
    " 'transformer.h.37': 'cpu',\n",
    " 'transformer.h.38': 'cpu',\n",
    " 'transformer.h.39': 'cpu',\n",
    " 'transformer.ln_f': 0,\n",
    " 'lm_head': 0\n",
    "}"
   ]
  },
  {
   "cell_type": "markdown",
   "metadata": {},
   "source": [
    "#### Loading model to VRAM with custom device_map"
   ]
  },
  {
   "cell_type": "code",
   "execution_count": null,
   "metadata": {},
   "outputs": [],
   "source": [
    "BASE_MODEL_ID = 'WizardLM/WizardCoder-15B-V1.0'\n",
    "\n",
    "tokenizer = AutoTokenizer.from_pretrained(BASE_MODEL_ID, use_fast=True)\n",
    "model = AutoModelForCausalLM.from_pretrained(BASE_MODEL_ID,\n",
    "                                            device_map=device_map,\n",
    "                                            trust_remote_code=True,\n",
    "                                            load_in_8bit=True,\n",
    "                                            llm_int8_enable_fp32_cpu_offload=True)"
   ]
  },
  {
   "cell_type": "markdown",
   "metadata": {},
   "source": [
    "#### Prompt"
   ]
  },
  {
   "cell_type": "code",
   "execution_count": null,
   "metadata": {},
   "outputs": [],
   "source": [
    "# Here is your prompt\n",
    "prompt = '''create Java classes according to this PlantUML diagram:\n",
    "\n",
    "@startuml\n",
    "\n",
    "entity Book {\n",
    "id: long\n",
    "name: string\n",
    "language: string\n",
    "yearOfPublishing: int\n",
    "}\n",
    "\n",
    "entity Author {\n",
    "id: long\n",
    "firstName: string\n",
    "lastName: string\n",
    "nationality: string\n",
    "}\n",
    "\n",
    "enum Genre {\n",
    "SCIENCE_FICTION\n",
    "FANTASY\n",
    "HORROR\n",
    "TECHNICAL_WRITING\n",
    "EROTIC_FICTION\n",
    "WESTERN\n",
    "OTHER\n",
    "}\n",
    "\n",
    "Book \"1..N\" -o \"1\" Author: books\n",
    "Book \"1\" o- \"1..N\" Genre: genres\n",
    "Author \"1\" o- \"1..N\" Genre: genres\n",
    "Book \"1..N\" o- \"1\" Author: author\n",
    "\n",
    "@enduml'''\n",
    "\n",
    "# Here is template that model can understand your prompt and make response \n",
    "prompt_template = f'''Below is an instruction that describes a task. Write a response that appropriately completes the request\n",
    "\n",
    "### Instruction: {prompt}\n",
    "\n",
    "### Response:'''"
   ]
  },
  {
   "cell_type": "markdown",
   "metadata": {},
   "source": [
    "#### Inference"
   ]
  },
  {
   "cell_type": "code",
   "execution_count": null,
   "metadata": {},
   "outputs": [],
   "source": [
    "generation_config = GenerationConfig(\n",
    "    top_p=0.0,\n",
    "    top_k=1,\n",
    "    temperature=0.0,\n",
    "    max_new_tokens=200,\n",
    "    pad_token_id = tokenizer.eos_token_id,\n",
    "    eos_token_id = tokenizer.eos_token_id\n",
    ")   \n",
    "\n",
    "device = torch.device(\"cuda\" if torch.cuda.is_available() else \"cpu\")\n",
    "encoding = tokenizer(prompt_template, return_tensors=\"pt\").to(device)\n",
    "\n",
    "with torch.inference_mode(): \n",
    "    outputs = model.generate(\n",
    "        input_ids=encoding.input_ids,\n",
    "        attention_mask=encoding.attention_mask,\n",
    "        generation_config=generation_config,\n",
    "        do_sample = False,\n",
    "        use_cache = True\n",
    "    )\n",
    "\n",
    "print(tokenizer.decode(outputs[0], skip_special_tokens=True))"
   ]
  }
 ],
 "metadata": {
  "kernelspec": {
   "display_name": ".venv",
   "language": "python",
   "name": "python3"
  },
  "language_info": {
   "codemirror_mode": {
    "name": "ipython",
    "version": 3
   },
   "file_extension": ".py",
   "mimetype": "text/x-python",
   "name": "python",
   "nbconvert_exporter": "python",
   "pygments_lexer": "ipython3",
   "version": "3.8.10"
  },
  "orig_nbformat": 4
 },
 "nbformat": 4,
 "nbformat_minor": 2
}
